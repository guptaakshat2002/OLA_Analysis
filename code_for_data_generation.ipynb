{
  "nbformat": 4,
  "nbformat_minor": 0,
  "metadata": {
    "colab": {
      "provenance": []
    },
    "kernelspec": {
      "name": "python3",
      "display_name": "Python 3"
    },
    "language_info": {
      "name": "python"
    }
  },
  "cells": [
    {
      "cell_type": "code",
      "execution_count": 1,
      "metadata": {
        "id": "exs_PdQoOFEa"
      },
      "outputs": [],
      "source": [
        "import pandas as pd\n",
        "import random\n",
        "import numpy as np\n",
        "from datetime import datetime, timedelta"
      ]
    },
    {
      "cell_type": "code",
      "source": [
        "num_rows = 100000"
      ],
      "metadata": {
        "id": "xD9wG1KaOI5f"
      },
      "execution_count": 2,
      "outputs": []
    },
    {
      "cell_type": "code",
      "source": [
        "start_date = datetime(2025, 2, 1)"
      ],
      "metadata": {
        "id": "Q-303mwqOMwt"
      },
      "execution_count": 3,
      "outputs": []
    },
    {
      "cell_type": "code",
      "source": [
        "end_date = datetime(2025, 2, 28)"
      ],
      "metadata": {
        "id": "jA0a48O5OOP0"
      },
      "execution_count": 4,
      "outputs": []
    },
    {
      "cell_type": "code",
      "source": [
        "vehicle_types = [\"Auto\", \"Prime Plus\", \"Prime Sedan\", \"Mini\", \"Bike\", \"eBike\", \"Prime SUV\"]"
      ],
      "metadata": {
        "id": "SI8S3vQ5OQSf"
      },
      "execution_count": 5,
      "outputs": []
    },
    {
      "cell_type": "code",
      "source": [
        "pickup_locations = [\n",
        "    \"Connaught Place\", \"Saket\", \"Dwarka\", \"Rohini\", \"Pitampura\", \"Vasant Kunj\", \"Karol Bagh\", \"Lajpat Nagar\",\n",
        "    \"Noida Sector 18\", \"Gurgaon Cyber City\", \"Greater Kailash\", \"Mayur Vihar\", \"Nehru Place\", \"South Extension\",\n",
        "    \"Kalkaji\", \"Uttam Nagar\", \"Rajouri Garden\", \"Punjabi Bagh\", \"Tilak Nagar\", \"Indirapuram\", \"Paschim Vihar\",\n",
        "    \"Chandni Chowk\", \"Preet Vihar\", \"Shahdara\", \"Ghaziabad\", \"Faridabad\", \"Sushant Lok\", \"DLF Phase 1\", \"DLF Phase 2\",\n",
        "    \"DLF Phase 3\", \"Green Park\", \"Hauz Khas\", \"Ashok Vihar\", \"Model Town\", \"Mehrauli\", \"Okhla\", \"Jasola\", \"Sarita Vihar\",\n",
        "    \"Yamuna Vihar\", \"Janakpuri\", \"Laxmi Nagar\", \"Patparganj\", \"Vivek Vihar\", \"Nangloi\", \"Najafgarh\", \"Badarpur\",\n",
        "    \"Mahipalpur\", \"Dwarka Mor\", \"Gagan Vihar\", \"Chhatarpur\"\n",
        "]"
      ],
      "metadata": {
        "id": "f8WUYtsjOT2o"
      },
      "execution_count": 6,
      "outputs": []
    },
    {
      "cell_type": "code",
      "source": [
        "drop_locations = pickup_locations.copy()"
      ],
      "metadata": {
        "id": "YNMID1sNOXWW"
      },
      "execution_count": 7,
      "outputs": []
    },
    {
      "cell_type": "code",
      "source": [
        "customer_cancel_reasons = [\n",
        "    \"Driver is not moving towards pickup location\", \"Driver asked to cancel\",\n",
        "    \"AC is not working\", \"Change of plans\", \"Wrong Address\"\n",
        "]"
      ],
      "metadata": {
        "id": "6cRmNyu5OZqG"
      },
      "execution_count": 8,
      "outputs": []
    },
    {
      "cell_type": "code",
      "source": [
        "driver_cancel_reasons = [\n",
        "    \"Personal & Car related issues\", \"Customer related issue\",\n",
        "    \"The customer was coughing/sick\", \"More than permitted people in there\"\n",
        "]"
      ],
      "metadata": {
        "id": "0uvbDR89ObqS"
      },
      "execution_count": 9,
      "outputs": []
    },
    {
      "cell_type": "code",
      "source": [
        "incomplete_ride_reasons = [\"Customer Demand\", \"Vehicle Breakdown\", \"Other Issue\"]"
      ],
      "metadata": {
        "id": "tUP2C1cUOdUf"
      },
      "execution_count": 10,
      "outputs": []
    },
    {
      "cell_type": "code",
      "source": [
        "# Generate data\n",
        "data = []\n",
        "for _ in range(num_rows):\n",
        "    date = start_date + timedelta(days=random.randint(0, (end_date - start_date).days))\n",
        "    time = datetime.strptime(f\"{random.randint(0, 23)}:{random.randint(0, 59)}\", \"%H:%M\").time()\n",
        "    booking_id = f\"BK{random.randint(100000, 999999)}\"\n",
        "    customer_id = f\"CUST{random.randint(10000, 99999)}\"\n",
        "    vehicle_type = random.choice(vehicle_types)\n",
        "    pickup_location = random.choice(pickup_locations)\n",
        "    drop_location = random.choice(drop_locations)\n",
        "\n",
        "    # 62% success rate for booking status\n",
        "    is_successful = random.random() < 0.62\n",
        "    booking_status = \"Success\" if is_successful else random.choice([\"Cancelled by Customer\", \"Cancelled by Driver\", \"Incomplete\"])\n",
        "    avg_vtat = round(random.uniform(2, 10), 2) if is_successful else None\n",
        "    avg_ctat = round(random.uniform(3, 12), 2) if is_successful else None\n",
        "    ride_distance = round(random.uniform(2, 25), 2) if is_successful else None\n",
        "    booking_value = round(ride_distance * random.uniform(8, 20), 2) if is_successful else None\n",
        "\n",
        "    cancelled_by_customer = 1 if booking_status == \"Cancelled by Customer\" else 0\n",
        "    reason_cancel_customer = random.choice(customer_cancel_reasons) if cancelled_by_customer else None\n",
        "\n",
        "    cancelled_by_driver = 1 if booking_status == \"Cancelled by Driver\" else 0\n",
        "    reason_cancel_driver = random.choice(driver_cancel_reasons) if cancelled_by_driver else None\n",
        "\n",
        "    incomplete_rides = 1 if booking_status == \"Incomplete\" else 0\n",
        "    reason_incomplete = random.choice(incomplete_ride_reasons) if incomplete_rides else None\n",
        "\n",
        "    driver_rating = round(random.uniform(3, 5), 1) if is_successful else None\n",
        "    customer_rating = round(random.uniform(3, 5), 1) if is_successful else None\n",
        "\n",
        "    data.append([\n",
        "        date, time, booking_id, booking_status, customer_id, vehicle_type, pickup_location, drop_location,\n",
        "        avg_vtat, avg_ctat, cancelled_by_customer, reason_cancel_customer, cancelled_by_driver, reason_cancel_driver,\n",
        "        incomplete_rides, reason_incomplete, booking_value, ride_distance, driver_rating, customer_rating\n",
        "    ])"
      ],
      "metadata": {
        "id": "OjdJLpYaOfYu"
      },
      "execution_count": 14,
      "outputs": []
    },
    {
      "cell_type": "code",
      "source": [
        "# Create DataFrame\n",
        "columns = [\n",
        "    \"Date\", \"Time\", \"Booking ID\", \"Booking Status\", \"Customer ID\", \"Vehicle Type\", \"Pickup Location\", \"Drop Location\",\n",
        "    \"Avg VTAT\", \"Avg CTAT\", \"Cancelled Rides by Customer\", \"Reason for cancelling by Customer\",\n",
        "    \"Cancelled Rides by Driver\", \"Reason for cancelling by Driver\", \"Incomplete Rides\", \"Incomplete Rides Reason\",\n",
        "    \"Booking Value\", \"Ride Distance\", \"Driver Ratings\", \"Customer Rating\"\n",
        "]"
      ],
      "metadata": {
        "id": "0IyCCNkaOh1J"
      },
      "execution_count": 15,
      "outputs": []
    },
    {
      "cell_type": "code",
      "source": [
        "df = pd.DataFrame(data, columns=columns)"
      ],
      "metadata": {
        "id": "7Lq51DyMOlJW"
      },
      "execution_count": 16,
      "outputs": []
    },
    {
      "cell_type": "code",
      "source": [
        "# Save to CSV\n",
        "file_path = \"/mnt/data/delhi_ncr_rides_data.csv\"\n",
        "df.to_csv(file_path, index=False)\n",
        "\n",
        "file_path"
      ],
      "metadata": {
        "id": "kJ6RlUD_O3F8"
      },
      "execution_count": null,
      "outputs": []
    }
  ]
}
