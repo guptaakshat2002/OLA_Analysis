{
  "nbformat": 4,
  "nbformat_minor": 0,
  "metadata": {
    "colab": {
      "provenance": []
    },
    "kernelspec": {
      "name": "python3",
      "display_name": "Python 3"
    },
    "language_info": {
      "name": "python"
    }
  },
  "cells": [
    {
      "cell_type": "code",
      "execution_count": null,
      "metadata": {
        "id": "8gwzmvOiZg2y"
      },
      "outputs": [],
      "source": [
        "# Import necessary libraries\n",
        "import pandas as pd\n",
        "import numpy as np\n",
        "import random\n",
        "from datetime import datetime, timedelta"
      ]
    },
    {
      "cell_type": "code",
      "source": [
        "# Constants for Delhi-NCR dataset\n",
        "num_rows = 100000"
      ],
      "metadata": {
        "id": "JRFDvGsDZjcT"
      },
      "execution_count": null,
      "outputs": []
    },
    {
      "cell_type": "code",
      "source": [
        "# Define Delhi-NCR locations\n",
        "delhi_ncr_locations = [\n",
        "    \"Connaught Place\", \"Saket\", \"Lajpat Nagar\", \"Karol Bagh\", \"Pitampura\", \"Rohini\", \"Vasant Kunj\", \"Dwarka\",\n",
        "    \"Janakpuri\", \"Chandni Chowk\", \"Greater Kailash\", \"Hauz Khas\", \"South Extension\", \"Defence Colony\", \"Green Park\",\n",
        "    \"Rajouri Garden\", \"Uttam Nagar\", \"Paschim Vihar\", \"Jasola\", \"Sarita Vihar\", \"Mayur Vihar\", \"Yamuna Vihar\",\n",
        "    \"Shahdara\", \"Dilshad Garden\", \"Preet Vihar\", \"Nehru Place\", \"Okhla\", \"Govindpuri\", \"Munirka\", \"Mehrauli\",\n",
        "    \"Noida Sector 18\", \"Noida Sector 62\", \"Indirapuram\", \"Ghaziabad\", \"Vaishali\", \"Kaushambi\", \"Faridabad\",\n",
        "    \"Gurgaon Cyber Hub\", \"MG Road Gurgaon\", \"Sohna Road\", \"Golf Course Road\", \"DLF Phase 1\", \"DLF Phase 2\",\n",
        "    \"DLF Phase 3\", \"Manesar\", \"Greater Noida\", \"Raj Nagar Extension\", \"Badarpur\", \"Nangloi\", \"Najafgarh\", \"Palam\"\n",
        "]\n"
      ],
      "metadata": {
        "id": "qaDwI8_6ZnDB"
      },
      "execution_count": null,
      "outputs": []
    },
    {
      "cell_type": "code",
      "source": [
        "# Reuse vehicle types and cancellation reasons\n",
        "vehicle_types = [\"Auto\", \"Prime Plus\", \"Prime Sedan\", \"Mini\", \"Bike\", \"eBike\", \"Prime SUV\"]\n",
        "customer_cancel_reasons = [\n",
        "    \"Driver is not moving towards pickup location\", \"Driver asked to cancel\",\n",
        "    \"AC is not working\", \"Change of plans\", \"Wrong Address\"\n",
        "]\n",
        "driver_cancel_reasons = [\n",
        "    \"Personal & Car related issues\", \"Customer related issue\",\n",
        "    \"The customer was coughing/sick\", \"More than permitted people in there\"\n",
        "]\n",
        "incomplete_reasons = [\"Customer Demand\", \"Vehicle Breakdown\", \"Other Issue\"]"
      ],
      "metadata": {
        "id": "wg7KYw51ZqLv"
      },
      "execution_count": null,
      "outputs": []
    },
    {
      "cell_type": "code",
      "source": [
        "# Success and failure rates\n",
        "success_rate = 0.62\n",
        "customer_cancel_rate = 0.07\n",
        "driver_cancel_rate = 0.18\n",
        "incomplete_rate = 1 - (success_rate + customer_cancel_rate + driver_cancel_rate)\n"
      ],
      "metadata": {
        "id": "qWRNdFh9Zr-g"
      },
      "execution_count": null,
      "outputs": []
    },
    {
      "cell_type": "code",
      "source": [
        "# Booking value distribution\n",
        "low_value_rate = 0.70\n",
        "mid_value_rate = 0.28\n",
        "high_value_rate = 1 - (low_value_rate + mid_value_rate)\n"
      ],
      "metadata": {
        "id": "BHEbPQjTZuc4"
      },
      "execution_count": null,
      "outputs": []
    },
    {
      "cell_type": "code",
      "source": [
        "# Generate date and time\n",
        "start_date = datetime(2024, 6, 1)\n",
        "end_date = datetime(2024, 6, 30)\n",
        "random_dates = [start_date + timedelta(days=random.randint(0, (end_date - start_date).days),\n",
        "                                       hours=random.randint(0, 23),\n",
        "                                       minutes=random.randint(0, 59)) for _ in range(num_rows)]\n"
      ],
      "metadata": {
        "id": "WvdpC4tzZwT4"
      },
      "execution_count": null,
      "outputs": []
    },
    {
      "cell_type": "code",
      "source": [
        "# Define match days and weekends\n",
        "match_days = [\"2024-06-07\", \"2024-06-15\", \"2024-06-23\", \"2024-06-30\"]\n",
        "weekends = [5, 6]  # Saturday and Sunday"
      ],
      "metadata": {
        "id": "IOhV7LTaZzk7"
      },
      "execution_count": null,
      "outputs": []
    },
    {
      "cell_type": "code",
      "source": [
        "# Generate unique booking IDs\n",
        "booking_ids = [\"CNR\" + str(random.randint(1000000000, 9999999999)) for _ in range(num_rows)]"
      ],
      "metadata": {
        "id": "bC12G9tpZ1Ne"
      },
      "execution_count": null,
      "outputs": []
    },
    {
      "cell_type": "code",
      "source": [
        "# Generate booking statuses\n",
        "statuses = np.random.choice(\n",
        "    [\"Success\", \"Cancelled by Customer\", \"Cancelled by Driver\", \"Incomplete\"],\n",
        "    num_rows,\n",
        "    p=[success_rate, customer_cancel_rate, driver_cancel_rate, incomplete_rate]\n",
        ")\n"
      ],
      "metadata": {
        "id": "dveh1FFcZ3g3"
      },
      "execution_count": null,
      "outputs": []
    },
    {
      "cell_type": "code",
      "source": [
        "# Generate data\n",
        "data = []\n",
        "for i in range(num_rows):\n",
        "    date = random_dates[i].strftime(\"%Y-%m-%d\")\n",
        "    time = random_dates[i].strftime(\"%H:%M:%S\")\n",
        "    booking_id = booking_ids[i]\n",
        "    status = statuses[i]\n",
        "\n",
        "    customer_id = \"CUST\" + str(random.randint(100000, 999999))\n",
        "    vehicle = random.choice(vehicle_types)\n",
        "    pickup = random.choice(delhi_ncr_locations)\n",
        "    drop = random.choice(delhi_ncr_locations)\n",
        "\n",
        "    avg_vtat = random.uniform(2, 10) if status == \"Success\" else None\n",
        "    avg_ctat = random.uniform(5, 15) if status == \"Success\" else None\n",
        "\n",
        "    cancelled_by_customer = 1 if status == \"Cancelled by Customer\" else 0\n",
        "    customer_cancel_reason = random.choice(customer_cancel_reasons) if cancelled_by_customer else None\n",
        "\n",
        "    cancelled_by_driver = 1 if status == \"Cancelled by Driver\" else 0\n",
        "    driver_cancel_reason = random.choice(driver_cancel_reasons) if cancelled_by_driver else None\n",
        "\n",
        "    incomplete_rides = 1 if status == \"Incomplete\" else 0\n",
        "    incomplete_reason = random.choice(incomplete_reasons) if incomplete_rides else None\n",
        "\n",
        "    ride_distance = random.uniform(2, 25) if status == \"Success\" else None\n",
        "\n",
        "    # Booking value distribution\n",
        "    rand_val = random.random()\n",
        "    if status == \"Success\":\n",
        "        if rand_val < low_value_rate:\n",
        "            booking_value = random.randint(50, 499)\n",
        "        elif rand_val < (low_value_rate + mid_value_rate):\n",
        "            booking_value = random.randint(500, 999)\n",
        "        else:\n",
        "            booking_value = random.randint(1000, 5000)\n",
        "    else:\n",
        "        booking_value = None\n",
        "\n",
        "    driver_rating = round(random.uniform(3, 5), 1) if status == \"Success\" else None\n",
        "    customer_rating = round(random.uniform(3, 5), 1) if status == \"Success\" else None\n",
        "\n",
        "    # Increase booking value on match days and weekends\n",
        "    if date in match_days or pd.to_datetime(date).weekday() in weekends:\n",
        "        booking_value = booking_value * 1.2 if booking_value else None\n",
        "\n",
        "    data.append([date, time, booking_id, status, customer_id, vehicle, pickup, drop, avg_vtat, avg_ctat,\n",
        "                 cancelled_by_customer, customer_cancel_reason, cancelled_by_driver, driver_cancel_reason,\n",
        "                 incomplete_rides, incomplete_reason, booking_value, ride_distance, driver_rating, customer_rating])"
      ],
      "metadata": {
        "id": "tGOCcd3taA-H"
      },
      "execution_count": null,
      "outputs": []
    },
    {
      "cell_type": "code",
      "source": [
        "# Create DataFrame\n",
        "df_delhi_ncr = pd.DataFrame(data, columns=[\n",
        "    \"Date\", \"Time\", \"Booking ID\", \"Booking Status\", \"Customer ID\", \"Vehicle Type\", \"Pickup Location\",\n",
        "    \"Drop Location\", \"Avg VTAT\", \"Avg CTAT\", \"Cancelled Rides by Customer\", \"Reason for cancelling by Customer\",\n",
        "    \"Cancelled Rides by Driver\", \"Reason for cancelling by Driver\", \"Incomplete Rides\", \"Incomplete Rides Reason\",\n",
        "    \"Booking Value\", \"Ride Distance\", \"Driver Ratings\", \"Customer Rating\"\n",
        "])\n"
      ],
      "metadata": {
        "id": "vz742nxQaski"
      },
      "execution_count": null,
      "outputs": []
    },
    {
      "cell_type": "code",
      "source": [
        "# Save to CSV\n",
        "file_path_delhi_ncr = \"/mnt/data/Delhi_NCR_OLA_Data.csv\"\n",
        "df_delhi_ncr.to_csv(file_path_delhi_ncr, index=False)\n",
        "\n",
        "file_path_delhi_ncr"
      ],
      "metadata": {
        "id": "69dtOTr2auu2"
      },
      "execution_count": 22,
      "outputs": []
    },
    {
      "cell_type": "code",
      "source": [],
      "metadata": {
        "id": "-4ZiIstpawgV"
      },
      "execution_count": null,
      "outputs": []
    }
  ]
}